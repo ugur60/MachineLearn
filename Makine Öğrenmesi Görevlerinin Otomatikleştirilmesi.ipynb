{
 "cells": [
  {
   "cell_type": "markdown",
   "metadata": {},
   "source": [
    "Elimize veri geldiğinde bu veri setine makine öğrenmesinde kullandığımız algoritmaları otomatik olarak uygulamak istemekteyiz."
   ]
  },
  {
   "cell_type": "code",
   "execution_count": 3,
   "metadata": {},
   "outputs": [],
   "source": [
    "import pandas as pd\n",
    "import numpy as np"
   ]
  },
  {
   "cell_type": "code",
   "execution_count": 23,
   "metadata": {},
   "outputs": [],
   "source": [
    "import pandas as pd\n",
    "import numpy as np\n",
    "import numpy as np\n",
    "import pandas as pd\n",
    "from sklearn.model_selection import train_test_split, GridSearchCV\n",
    "from sklearn.metrics import mean_squared_error,r2_score\n",
    "import matplotlib.pyplot as plt\n",
    "from sklearn.preprocessing import scale\n",
    "from sklearn.preprocessing import StandardScaler\n",
    "from sklearn import model_selection\n",
    "from sklearn.linear_model import LinearRegression\n",
    "from sklearn.tree import DecisionTreeRegressor\n",
    "from sklearn.neighbors import KNeighborsRegressor\n",
    "from sklearn.neural_network import MLPRegressor\n",
    "from sklearn.ensemble import RandomForestRegressor\n",
    "from sklearn.ensemble import GradientBoostingRegressor\n",
    "from sklearn import neighbors\n",
    "from sklearn.svm import SVR"
   ]
  },
  {
   "cell_type": "code",
   "execution_count": 24,
   "metadata": {},
   "outputs": [],
   "source": [
    "from warnings import filterwarnings\n",
    "filterwarnings('ignore')"
   ]
  },
  {
   "cell_type": "code",
   "execution_count": 25,
   "metadata": {},
   "outputs": [],
   "source": [
    "df = pd.read_csv(\"Hitters.csv\")\n",
    "df = df.dropna()\n",
    "dms=pd.get_dummies(df[['League','Division','NewLeague']])"
   ]
  },
  {
   "cell_type": "code",
   "execution_count": 39,
   "metadata": {},
   "outputs": [],
   "source": [
    "def compML(df,y,alg):\n",
    "    #train-test ayrımı\n",
    "    y=df[y]\n",
    "    X_=df.drop(['Salary','League','Division','NewLeague'],axis=1).astype('float64')\n",
    "    X=pd.concat([X_,dms[['League_N','Division_W','NewLeague_N']]],axis=1)\n",
    "    X_train,X_test,y_train,y_test=train_test_split(X,y,test_size=0.25,random_state=42)\n",
    "    #modelleme\n",
    "    model=alg().fit(X_train,y_train)\n",
    "    y_pred=model.predict(X_test)\n",
    "    RMSE= np.sqrt(mean_squared_error(y_test,y_pred))\n",
    "    model_ismi=alg.__name__\n",
    "    print(model_ismi,\"Modeli Test Hatası:\",RMSE)"
   ]
  },
  {
   "cell_type": "code",
   "execution_count": 47,
   "metadata": {},
   "outputs": [
    {
     "name": "stdout",
     "output_type": "stream",
     "text": [
      "SVR Modeli Test Hatası: 473.4445984431814\n"
     ]
    }
   ],
   "source": [
    "compML(df,\"Salary\",SVR)"
   ]
  },
  {
   "cell_type": "code",
   "execution_count": 52,
   "metadata": {},
   "outputs": [],
   "source": [
    "models =[GradientBoostingRegressor,\n",
    "        RandomForestRegressor,\n",
    "         LinearRegression,\n",
    "       DecisionTreeRegressor,\n",
    "       MLPRegressor,\n",
    "       KNeighborsRegressor,\n",
    "       SVR]"
   ]
  },
  {
   "cell_type": "code",
   "execution_count": 55,
   "metadata": {},
   "outputs": [
    {
     "name": "stdout",
     "output_type": "stream",
     "text": [
      "GradientBoostingRegressor Modeli Test Hatası: 356.4248635694754\n",
      "RandomForestRegressor Modeli Test Hatası: 339.7710965126121\n",
      "LinearRegression Modeli Test Hatası: 357.0532909460734\n",
      "DecisionTreeRegressor Modeli Test Hatası: 481.46688440005295\n",
      "MLPRegressor Modeli Test Hatası: 421.4880843751544\n",
      "KNeighborsRegressor Modeli Test Hatası: 426.6570764525201\n",
      "SVR Modeli Test Hatası: 473.4445984431814\n"
     ]
    }
   ],
   "source": [
    "for i in models:\n",
    "    (compML(df,\"Salary\",i))"
   ]
  },
  {
   "cell_type": "code",
   "execution_count": null,
   "metadata": {},
   "outputs": [],
   "source": []
  },
  {
   "cell_type": "code",
   "execution_count": null,
   "metadata": {},
   "outputs": [],
   "source": []
  }
 ],
 "metadata": {
  "kernelspec": {
   "display_name": "Python 3",
   "language": "python",
   "name": "python3"
  },
  "language_info": {
   "codemirror_mode": {
    "name": "ipython",
    "version": 3
   },
   "file_extension": ".py",
   "mimetype": "text/x-python",
   "name": "python",
   "nbconvert_exporter": "python",
   "pygments_lexer": "ipython3",
   "version": "3.7.3"
  }
 },
 "nbformat": 4,
 "nbformat_minor": 2
}
